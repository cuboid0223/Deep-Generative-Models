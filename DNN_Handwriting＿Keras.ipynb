{
  "nbformat": 4,
  "nbformat_minor": 0,
  "metadata": {
    "colab": {
      "provenance": [],
      "authorship_tag": "ABX9TyO9oQvhMW5qrpbgvKTmUThF",
      "include_colab_link": true
    },
    "kernelspec": {
      "name": "python3",
      "display_name": "Python 3"
    },
    "language_info": {
      "name": "python"
    }
  },
  "cells": [
    {
      "cell_type": "markdown",
      "metadata": {
        "id": "view-in-github",
        "colab_type": "text"
      },
      "source": [
        "<a href=\"https://colab.research.google.com/github/cuboid0223/Deep-Generative-Models/blob/main/DNN_Handwriting%EF%BC%BFKeras.ipynb\" target=\"_parent\"><img src=\"https://colab.research.google.com/assets/colab-badge.svg\" alt=\"Open In Colab\"/></a>"
      ]
    },
    {
      "cell_type": "code",
      "execution_count": 3,
      "metadata": {
        "id": "WP979Mhx4p8v"
      },
      "outputs": [],
      "source": [
        "import tensorflow as tf\n",
        "from keras.preprocessing.image import ImageDataGenerator\n",
        "import pandas as pd\n",
        "from tensorflow import keras\n",
        "import matplotlib.pyplot as plt\n",
        "%matplotlib inline\n",
        "import numpy as np"
      ]
    },
    {
      "cell_type": "code",
      "source": [
        "from keras.datasets import mnist"
      ],
      "metadata": {
        "id": "tu71XMz7-PlI"
      },
      "execution_count": 4,
      "outputs": []
    },
    {
      "cell_type": "code",
      "source": [
        "(X_train, y_train), (X_test, y_test) = mnist.load_data()"
      ],
      "metadata": {
        "colab": {
          "base_uri": "https://localhost:8080/"
        },
        "id": "y3oBqhmy-ThC",
        "outputId": "64321dc9-43b1-4d3c-a7d2-f18cf3c7d27e"
      },
      "execution_count": 5,
      "outputs": [
        {
          "output_type": "stream",
          "name": "stdout",
          "text": [
            "Downloading data from https://storage.googleapis.com/tensorflow/tf-keras-datasets/mnist.npz\n",
            "11490434/11490434 [==============================] - 0s 0us/step\n"
          ]
        }
      ]
    },
    {
      "cell_type": "markdown",
      "source": [
        "這句程式碼是用於載入MNIST數據集的一部分，它是一個常用於機器學習和深度學習的數字圖像數據集，其中包含手寫數字0到9的圖像。\n",
        "\n",
        "這句程式碼的具體意義如下：\n",
        "\n",
        "- `mnist.load_data()` 是一個函數調用，用於從Keras庫中載入MNIST數據集。\n",
        "- `(X_train, y_train)` 和 `(X_test, y_test)` 是將數據集分為兩個部分的變數賦值。通常，數據集被分成訓練集（`X_train` 和 `y_train`）和測試集（`X_test` 和 `y_test`）。\n",
        "  - `X_train` 包含訓練圖像數據，即手寫數字的圖像。\n",
        "  - `y_train` 包含與 `X_train` 中的每個圖像相對應的標籤（或類別），即每個圖像表示的是哪個數字（0到9之一）。\n",
        "  - `X_test` 包含測試圖像數據，用於在訓練後評估模型的性能。\n",
        "  - `y_test` 包含與 `X_test` 中的每個測試圖像相對應的真實標籤。\n",
        "\n",
        "總之，這句程式碼的目的是從MNIST數據集中載入訓練和測試數據，以便在機器學習或深度學習項目中使用。這些數據將用於訓練機器學習模型，以便模型可以識別手寫數字。\n"
      ],
      "metadata": {
        "id": "VVR42sjWI4Rb"
      }
    },
    {
      "cell_type": "code",
      "source": [
        "len(X_train)"
      ],
      "metadata": {
        "colab": {
          "base_uri": "https://localhost:8080/"
        },
        "id": "5XMqES68-el6",
        "outputId": "2a8da834-aa5e-41c2-8899-60b62c0f8e8d"
      },
      "execution_count": 6,
      "outputs": [
        {
          "output_type": "execute_result",
          "data": {
            "text/plain": [
              "60000"
            ]
          },
          "metadata": {},
          "execution_count": 6
        }
      ]
    },
    {
      "cell_type": "code",
      "source": [
        "len(X_test)"
      ],
      "metadata": {
        "colab": {
          "base_uri": "https://localhost:8080/"
        },
        "id": "bGHrgIteJp3A",
        "outputId": "5c837cee-b3d3-477f-9e7e-6cc671d70781"
      },
      "execution_count": 7,
      "outputs": [
        {
          "output_type": "execute_result",
          "data": {
            "text/plain": [
              "10000"
            ]
          },
          "metadata": {},
          "execution_count": 7
        }
      ]
    },
    {
      "cell_type": "code",
      "source": [
        "X_train[0].shape"
      ],
      "metadata": {
        "colab": {
          "base_uri": "https://localhost:8080/"
        },
        "id": "NO7jBa0SJrFl",
        "outputId": "76b9c76b-cc16-47d8-ce10-c4eb2bbf5108"
      },
      "execution_count": 8,
      "outputs": [
        {
          "output_type": "execute_result",
          "data": {
            "text/plain": [
              "(28, 28)"
            ]
          },
          "metadata": {},
          "execution_count": 8
        }
      ]
    },
    {
      "cell_type": "code",
      "source": [
        "plt.matshow(X_train[0])"
      ],
      "metadata": {
        "colab": {
          "base_uri": "https://localhost:8080/",
          "height": 455
        },
        "id": "1xRZymkiJsj9",
        "outputId": "8952a148-ad58-4a1d-d80c-80e14ef2b7e5"
      },
      "execution_count": 9,
      "outputs": [
        {
          "output_type": "execute_result",
          "data": {
            "text/plain": [
              "<matplotlib.image.AxesImage at 0x7be107fb0280>"
            ]
          },
          "metadata": {},
          "execution_count": 9
        },
        {
          "output_type": "display_data",
          "data": {
            "text/plain": [
              "<Figure size 480x480 with 1 Axes>"
            ],
            "image/png": "[encoded data removed]"
          },
          "metadata": {}
        }
      ]
    },
    {
      "cell_type": "markdown",
      "source": [
        "plt.matshow()  將 28 X 28 的 Matrix 來顯示圖像"
      ],
      "metadata": {
        "id": "wGXiORthKjDR"
      }
    },
    {
      "cell_type": "code",
      "source": [
        "y_train[0]"
      ],
      "metadata": {
        "colab": {
          "base_uri": "https://localhost:8080/"
        },
        "id": "iMrI6n0-Jz1k",
        "outputId": "4b296302-52f9-4242-c341-7aee86b4f4af"
      },
      "execution_count": 10,
      "outputs": [
        {
          "output_type": "execute_result",
          "data": {
            "text/plain": [
              "5"
            ]
          },
          "metadata": {},
          "execution_count": 10
        }
      ]
    },
    {
      "cell_type": "code",
      "source": [
        "X_train = X_train / 255\n",
        "X_test = X_test / 255"
      ],
      "metadata": {
        "id": "DsQeOKMfZp4w"
      },
      "execution_count": 11,
      "outputs": []
    },
    {
      "cell_type": "markdown",
      "source": [
        "將 `X_train` 和 `X_test` 數據除以 255 的操作是為了進行數據歸一化（Normalization）。這是一個常見的預處理步驟，用於將像素值縮放到一個特定的範圍，以便模型更容易訓練並提高訓練的穩定性。在這個情境下，255 是因為像素值的範圍通常在 0 到 255 之間。\n",
        "\n",
        "這種歸一化的好處包括：\n",
        "\n",
        "1. **加速收斂**：將像素值縮放到0到1之間有助於模型在訓練期間更快地收斂。這是因為在小範圍內的數值操作更容易進行，減少了梯度下降等優化算法的運算量。\n",
        "\n",
        "2. **避免梯度爆炸**：在深度學習中，大數值可能導致梯度爆炸的問題，使模型難以訓練。通過歸一化，可以減少這種情況的發生。\n",
        "\n",
        "3. **提高模型穩定性**：數據歸一化有助於確保不同特徵之間的數值範圍差距不會對模型產生不必要的影響。這對於深度神經網絡的穩定訓練非常重要。\n",
        "\n",
        "4. **更好的一般化能力**：模型在正規化後更容易推廣到看不見的數據，因為它學會了處理歸一化數據。\n",
        "\n",
        "總之，將像素值除以 255 是一種常見的數據預處理步驟，用於確保數據處於適當的範圍，以便訓練深度學習模型。這在處理圖像數據時特別常見，因為圖像像素值通常在0到255之間。"
      ],
      "metadata": {
        "id": "ORt8iU31dnJO"
      }
    },
    {
      "cell_type": "code",
      "source": [
        "X_train[0]"
      ],
      "metadata": {
        "colab": {
          "base_uri": "https://localhost:8080/"
        },
        "id": "kBIe7YN2c-T3",
        "outputId": "4f385e35-1a54-4e6c-ed42-d08a6ef39bfb"
      },
      "execution_count": 12,
      "outputs": [
        {
          "output_type": "execute_result",
          "data": {
            "text/plain": [
              "array([[0.        , 0.        , 0.        , 0.        , 0.        ,\n",
              "        0.        , 0.        , 0.        , 0.        , 0.        ,\n",
              "        0.        , 0.        , 0.        , 0.        , 0.        ,\n",
              "        0.        , 0.        , 0.        , 0.        , 0.        ,\n",
              "        0.        , 0.        , 0.        , 0.        , 0.        ,\n",
              "        0.        , 0.        , 0.        ],\n",
              "       [0.        , 0.        , 0.        , 0.        , 0.        ,\n",
              "        0.        , 0.        , 0.        , 0.        , 0.        ,\n",
              "        0.        , 0.        , 0.        , 0.        , 0.        ,\n",
              "        0.        , 0.        , 0.        , 0.        , 0.        ,\n",
              "        0.        , 0.        , 0.        , 0.        , 0.        ,\n",
              "        0.        , 0.        , 0.        ],\n",
              "       [0.        , 0.        , 0.        , 0.        , 0.        ,\n",
              "        0.        , 0.        , 0.        , 0.        , 0.        ,\n",
              "        0.        , 0.        , 0.        , 0.        , 0.        ,\n",
              "        0.        , 0.        , 0.        , 0.        , 0.        ,\n",
              "        0.        , 0.        , 0.        , 0.        , 0.        ,\n",
              "        0.        , 0.        , 0.        ],\n",
              "       [0.        , 0.        , 0.        , 0.        , 0.        ,\n",
              "        0.        , 0.        , 0.        , 0.        , 0.        ,\n",
              "        0.        , 0.        , 0.        , 0.        , 0.        ,\n",
              "        0.        , 0.        , 0.        , 0.        , 0.        ,\n",
              "        0.        , 0.        , 0.        , 0.        , 0.        ,\n",
              "        0.        , 0.        , 0.        ],\n",
              "       [0.        , 0.        , 0.        , 0.        , 0.        ,\n",
              "        0.        , 0.        , 0.        , 0.        , 0.        ,\n",
              "        0.        , 0.        , 0.        , 0.        , 0.        ,\n",
              "        0.        , 0.        , 0.        , 0.        , 0.        ,\n",
              "        0.        , 0.        , 0.        , 0.        , 0.        ,\n",
              "        0.        , 0.        , 0.        ],\n",
              "       [0.        , 0.        , 0.        , 0.        , 0.        ,\n",
              "        0.        , 0.        , 0.        , 0.        , 0.        ,\n",
              "        0.        , 0.        , 0.01176471, 0.07058824, 0.07058824,\n",
              "        0.07058824, 0.49411765, 0.53333333, 0.68627451, 0.10196078,\n",
              "        0.65098039, 1.        , 0.96862745, 0.49803922, 0.        ,\n",
              "        0.        , 0.        , 0.        ],\n",
              "       [0.        , 0.        , 0.        , 0.        , 0.        ,\n",
              "        0.        , 0.        , 0.        , 0.11764706, 0.14117647,\n",
              "        0.36862745, 0.60392157, 0.66666667, 0.99215686, 0.99215686,\n",
              "        0.99215686, 0.99215686, 0.99215686, 0.88235294, 0.6745098 ,\n",
              "        0.99215686, 0.94901961, 0.76470588, 0.25098039, 0.        ,\n",
              "        0.        , 0.        , 0.        ],\n",
              "       [0.        , 0.        , 0.        , 0.        , 0.        ,\n",
              "        0.        , 0.        , 0.19215686, 0.93333333, 0.99215686,\n",
              "        0.99215686, 0.99215686, 0.99215686, 0.99215686, 0.99215686,\n",
              "        0.99215686, 0.99215686, 0.98431373, 0.36470588, 0.32156863,\n",
              "        0.32156863, 0.21960784, 0.15294118, 0.        , 0.        ,\n",
              "        0.        , 0.        , 0.        ],\n",
              "       [0.        , 0.        , 0.        , 0.        , 0.        ,\n",
              "        0.        , 0.        , 0.07058824, 0.85882353, 0.99215686,\n",
              "        0.99215686, 0.99215686, 0.99215686, 0.99215686, 0.77647059,\n",
              "        0.71372549, 0.96862745, 0.94509804, 0.        , 0.        ,\n",
              "        0.        , 0.        , 0.        , 0.        , 0.        ,\n",
              "        0.        , 0.        , 0.        ],\n",
              "       [0.        , 0.        , 0.        , 0.        , 0.        ,\n",
              "        0.        , 0.        , 0.        , 0.31372549, 0.61176471,\n",
              "        0.41960784, 0.99215686, 0.99215686, 0.80392157, 0.04313725,\n",
              "        0.        , 0.16862745, 0.60392157, 0.        , 0.        ,\n",
              "        0.        , 0.        , 0.        , 0.        , 0.        ,\n",
              "        0.        , 0.        , 0.        ],\n",
              "       [0.        , 0.        , 0.        , 0.        , 0.        ,\n",
              "        0.        , 0.        , 0.        , 0.        , 0.05490196,\n",
              "        0.00392157, 0.60392157, 0.99215686, 0.35294118, 0.        ,\n",
              "        0.        , 0.        , 0.        , 0.        , 0.        ,\n",
              "        0.        , 0.        , 0.        , 0.        , 0.        ,\n",
              "        0.        , 0.        , 0.        ],\n",
              "       [0.        , 0.        , 0.        , 0.        , 0.        ,\n",
              "        0.        , 0.        , 0.        , 0.        , 0.        ,\n",
              "        0.        , 0.54509804, 0.99215686, 0.74509804, 0.00784314,\n",
              "        0.        , 0.        , 0.        , 0.        , 0.        ,\n",
              "        0.        , 0.        , 0.        , 0.        , 0.        ,\n",
              "        0.        , 0.        , 0.        ],\n",
              "       [0.        , 0.        , 0.        , 0.        , 0.        ,\n",
              "        0.        , 0.        , 0.        , 0.        , 0.        ,\n",
              "        0.        , 0.04313725, 0.74509804, 0.99215686, 0.2745098 ,\n",
              "        0.        , 0.        , 0.        , 0.        , 0.        ,\n",
              "        0.        , 0.        , 0.        , 0.        , 0.        ,\n",
              "        0.        , 0.        , 0.        ],\n",
              "       [0.        , 0.        , 0.        , 0.        , 0.        ,\n",
              "        0.        , 0.        , 0.        , 0.        , 0.        ,\n",
              "        0.        , 0.        , 0.1372549 , 0.94509804, 0.88235294,\n",
              "        0.62745098, 0.42352941, 0.00392157, 0.        , 0.        ,\n",
              "        0.        , 0.        , 0.        , 0.        , 0.        ,\n",
              "        0.        , 0.        , 0.        ],\n",
              "       [0.        , 0.        , 0.        , 0.        , 0.        ,\n",
              "        0.        , 0.        , 0.        , 0.        , 0.        ,\n",
              "        0.        , 0.        , 0.        , 0.31764706, 0.94117647,\n",
              "        0.99215686, 0.99215686, 0.46666667, 0.09803922, 0.        ,\n",
              "        0.        , 0.        , 0.        , 0.        , 0.        ,\n",
              "        0.        , 0.        , 0.        ],\n",
              "       [0.        , 0.        , 0.        , 0.        , 0.        ,\n",
              "        0.        , 0.        , 0.        , 0.        , 0.        ,\n",
              "        0.        , 0.        , 0.        , 0.        , 0.17647059,\n",
              "        0.72941176, 0.99215686, 0.99215686, 0.58823529, 0.10588235,\n",
              "        0.        , 0.        , 0.        , 0.        , 0.        ,\n",
              "        0.        , 0.        , 0.        ],\n",
              "       [0.        , 0.        , 0.        , 0.        , 0.        ,\n",
              "        0.        , 0.        , 0.        , 0.        , 0.        ,\n",
              "        0.        , 0.        , 0.        , 0.        , 0.        ,\n",
              "        0.0627451 , 0.36470588, 0.98823529, 0.99215686, 0.73333333,\n",
              "        0.        , 0.        , 0.        , 0.        , 0.        ,\n",
              "        0.        , 0.        , 0.        ],\n",
              "       [0.        , 0.        , 0.        , 0.        , 0.        ,\n",
              "        0.        , 0.        , 0.        , 0.        , 0.        ,\n",
              "        0.        , 0.        , 0.        , 0.        , 0.        ,\n",
              "        0.        , 0.        , 0.97647059, 0.99215686, 0.97647059,\n",
              "        0.25098039, 0.        , 0.        , 0.        , 0.        ,\n",
              "        0.        , 0.        , 0.        ],\n",
              "       [0.        , 0.        , 0.        , 0.        , 0.        ,\n",
              "        0.        , 0.        , 0.        , 0.        , 0.        ,\n",
              "        0.        , 0.        , 0.        , 0.        , 0.18039216,\n",
              "        0.50980392, 0.71764706, 0.99215686, 0.99215686, 0.81176471,\n",
              "        0.00784314, 0.        , 0.        , 0.        , 0.        ,\n",
              "        0.        , 0.        , 0.        ],\n",
              "       [0.        , 0.        , 0.        , 0.        , 0.        ,\n",
              "        0.        , 0.        , 0.        , 0.        , 0.        ,\n",
              "        0.        , 0.        , 0.15294118, 0.58039216, 0.89803922,\n",
              "        0.99215686, 0.99215686, 0.99215686, 0.98039216, 0.71372549,\n",
              "        0.        , 0.        , 0.        , 0.        , 0.        ,\n",
              "        0.        , 0.        , 0.        ],\n",
              "       [0.        , 0.        , 0.        , 0.        , 0.        ,\n",
              "        0.        , 0.        , 0.        , 0.        , 0.        ,\n",
              "        0.09411765, 0.44705882, 0.86666667, 0.99215686, 0.99215686,\n",
              "        0.99215686, 0.99215686, 0.78823529, 0.30588235, 0.        ,\n",
              "        0.        , 0.        , 0.        , 0.        , 0.        ,\n",
              "        0.        , 0.        , 0.        ],\n",
              "       [0.        , 0.        , 0.        , 0.        , 0.        ,\n",
              "        0.        , 0.        , 0.        , 0.09019608, 0.25882353,\n",
              "        0.83529412, 0.99215686, 0.99215686, 0.99215686, 0.99215686,\n",
              "        0.77647059, 0.31764706, 0.00784314, 0.        , 0.        ,\n",
              "        0.        , 0.        , 0.        , 0.        , 0.        ,\n",
              "        0.        , 0.        , 0.        ],\n",
              "       [0.        , 0.        , 0.        , 0.        , 0.        ,\n",
              "        0.        , 0.07058824, 0.67058824, 0.85882353, 0.99215686,\n",
              "        0.99215686, 0.99215686, 0.99215686, 0.76470588, 0.31372549,\n",
              "        0.03529412, 0.        , 0.        , 0.        , 0.        ,\n",
              "        0.        , 0.        , 0.        , 0.        , 0.        ,\n",
              "        0.        , 0.        , 0.        ],\n",
              "       [0.        , 0.        , 0.        , 0.        , 0.21568627,\n",
              "        0.6745098 , 0.88627451, 0.99215686, 0.99215686, 0.99215686,\n",
              "        0.99215686, 0.95686275, 0.52156863, 0.04313725, 0.        ,\n",
              "        0.        , 0.        , 0.        , 0.        , 0.        ,\n",
              "        0.        , 0.        , 0.        , 0.        , 0.        ,\n",
              "        0.        , 0.        , 0.        ],\n",
              "       [0.        , 0.        , 0.        , 0.        , 0.53333333,\n",
              "        0.99215686, 0.99215686, 0.99215686, 0.83137255, 0.52941176,\n",
              "        0.51764706, 0.0627451 , 0.        , 0.        , 0.        ,\n",
              "        0.        , 0.        , 0.        , 0.        , 0.        ,\n",
              "        0.        , 0.        , 0.        , 0.        , 0.        ,\n",
              "        0.        , 0.        , 0.        ],\n",
              "       [0.        , 0.        , 0.        , 0.        , 0.        ,\n",
              "        0.        , 0.        , 0.        , 0.        , 0.        ,\n",
              "        0.        , 0.        , 0.        , 0.        , 0.        ,\n",
              "        0.        , 0.        , 0.        , 0.        , 0.        ,\n",
              "        0.        , 0.        , 0.        , 0.        , 0.        ,\n",
              "        0.        , 0.        , 0.        ],\n",
              "       [0.        , 0.        , 0.        , 0.        , 0.        ,\n",
              "        0.        , 0.        , 0.        , 0.        , 0.        ,\n",
              "        0.        , 0.        , 0.        , 0.        , 0.        ,\n",
              "        0.        , 0.        , 0.        , 0.        , 0.        ,\n",
              "        0.        , 0.        , 0.        , 0.        , 0.        ,\n",
              "        0.        , 0.        , 0.        ],\n",
              "       [0.        , 0.        , 0.        , 0.        , 0.        ,\n",
              "        0.        , 0.        , 0.        , 0.        , 0.        ,\n",
              "        0.        , 0.        , 0.        , 0.        , 0.        ,\n",
              "        0.        , 0.        , 0.        , 0.        , 0.        ,\n",
              "        0.        , 0.        , 0.        , 0.        , 0.        ,\n",
              "        0.        , 0.        , 0.        ]])"
            ]
          },
          "metadata": {},
          "execution_count": 12
        }
      ]
    },
    {
      "cell_type": "code",
      "source": [
        "X_train_flattened = X_train.reshape(len(X_train), 28*28)\n",
        "X_test_flattened = X_test.reshape(len(X_test), 28*28)"
      ],
      "metadata": {
        "id": "8Jvd2hdjdt20"
      },
      "execution_count": 13,
      "outputs": []
    },
    {
      "cell_type": "markdown",
      "source": [
        "這句程式碼是用於將MNIST數據集中的圖像數據轉換成一維數組的操作。具體來說，這是將二維的圖像數據轉換為一維數組，以便它們可以作為機器學習模型的輸入。\n",
        "\n",
        "解釋如下：\n",
        "\n",
        "1. `X_train` 和 `X_test` 是分別包含訓練數據和測試數據的變數。這些數據是MNIST數據集中的手寫數字圖像，通常是28x28像素的二維數組。\n",
        "\n",
        "2. `X_train_flattened` 和 `X_test_flattened` 是新的變數，它們存儲了經過轉換的數據。`reshape` 函數用於執行這種轉換。\n",
        "\n",
        "3. `reshape(len(X_train), 28*28)` 的意思是將 `X_train` 數據集中的每個圖像（原始為28x28像素）轉換為一個具有28*28=784個元素的一維數組。同樣，對於測試數據 `X_test` 也執行相同的轉換。\n",
        "\n",
        "這樣的轉換對於某些機器學習模型，特別是DNN（深度神經網絡）非常有用，因為它們通常期望一維數組作為輸入。在這種情況下，原始的圖像數據被攤平成一個長向量，以便模型可以更容易地處理它們。"
      ],
      "metadata": {
        "id": "WTagGbHtfRf3"
      }
    },
    {
      "cell_type": "code",
      "source": [
        "X_train_flattened.shape"
      ],
      "metadata": {
        "colab": {
          "base_uri": "https://localhost:8080/"
        },
        "id": "27eLshlyd9af",
        "outputId": "fc02e15c-7c32-4252-9aa3-dcbc8c5b1945"
      },
      "execution_count": 14,
      "outputs": [
        {
          "output_type": "execute_result",
          "data": {
            "text/plain": [
              "(60000, 784)"
            ]
          },
          "metadata": {},
          "execution_count": 14
        }
      ]
    },
    {
      "cell_type": "code",
      "source": [
        "X_train_flattened[0]"
      ],
      "metadata": {
        "colab": {
          "base_uri": "https://localhost:8080/"
        },
        "id": "_J8hI0LKfeJO",
        "outputId": "714b24f2-c33a-4b37-e78d-4c04fb006a5c"
      },
      "execution_count": 15,
      "outputs": [
        {
          "output_type": "execute_result",
          "data": {
            "text/plain": [
              "array([0.        , 0.        , 0.        , 0.        , 0.        ,\n",
              "       0.        , 0.        , 0.        , 0.        , 0.        ,\n",
              "       0.        , 0.        , 0.        , 0.        , 0.        ,\n",
              "       0.        , 0.        , 0.        , 0.        , 0.        ,\n",
              "       0.        , 0.        , 0.        , 0.        , 0.        ,\n",
              "       0.        , 0.        , 0.        , 0.        , 0.        ,\n",
              "       0.        , 0.        , 0.        , 0.        , 0.        ,\n",
              "       0.        , 0.        , 0.        , 0.        , 0.        ,\n",
              "       0.        , 0.        , 0.        , 0.        , 0.        ,\n",
              "       0.        , 0.        , 0.        , 0.        , 0.        ,\n",
              "       0.        , 0.        , 0.        , 0.        , 0.        ,\n",
              "       0.        , 0.        , 0.        , 0.        , 0.        ,\n",
              "       0.        , 0.        , 0.        , 0.        , 0.        ,\n",
              "       0.        , 0.        , 0.        , 0.        , 0.        ,\n",
              "       0.        , 0.        , 0.        , 0.        , 0.        ,\n",
              "       0.        , 0.        , 0.        , 0.        , 0.        ,\n",
              "       0.        , 0.        , 0.        , 0.        , 0.        ,\n",
              "       0.        , 0.        , 0.        , 0.        , 0.        ,\n",
              "       0.        , 0.        , 0.        , 0.        , 0.        ,\n",
              "       0.        , 0.        , 0.        , 0.        , 0.        ,\n",
              "       0.        , 0.        , 0.        , 0.        , 0.        ,\n",
              "       0.        , 0.        , 0.        , 0.        , 0.        ,\n",
              "       0.        , 0.        , 0.        , 0.        , 0.        ,\n",
              "       0.        , 0.        , 0.        , 0.        , 0.        ,\n",
              "       0.        , 0.        , 0.        , 0.        , 0.        ,\n",
              "       0.        , 0.        , 0.        , 0.        , 0.        ,\n",
              "       0.        , 0.        , 0.        , 0.        , 0.        ,\n",
              "       0.        , 0.        , 0.        , 0.        , 0.        ,\n",
              "       0.        , 0.        , 0.        , 0.        , 0.        ,\n",
              "       0.        , 0.        , 0.        , 0.        , 0.        ,\n",
              "       0.        , 0.        , 0.01176471, 0.07058824, 0.07058824,\n",
              "       0.07058824, 0.49411765, 0.53333333, 0.68627451, 0.10196078,\n",
              "       0.65098039, 1.        , 0.96862745, 0.49803922, 0.        ,\n",
              "       0.        , 0.        , 0.        , 0.        , 0.        ,\n",
              "       0.        , 0.        , 0.        , 0.        , 0.        ,\n",
              "       0.        , 0.11764706, 0.14117647, 0.36862745, 0.60392157,\n",
              "       0.66666667, 0.99215686, 0.99215686, 0.99215686, 0.99215686,\n",
              "       0.99215686, 0.88235294, 0.6745098 , 0.99215686, 0.94901961,\n",
              "       0.76470588, 0.25098039, 0.        , 0.        , 0.        ,\n",
              "       0.        , 0.        , 0.        , 0.        , 0.        ,\n",
              "       0.        , 0.        , 0.        , 0.19215686, 0.93333333,\n",
              "       0.99215686, 0.99215686, 0.99215686, 0.99215686, 0.99215686,\n",
              "       0.99215686, 0.99215686, 0.99215686, 0.98431373, 0.36470588,\n",
              "       0.32156863, 0.32156863, 0.21960784, 0.15294118, 0.        ,\n",
              "       0.        , 0.        , 0.        , 0.        , 0.        ,\n",
              "       0.        , 0.        , 0.        , 0.        , 0.        ,\n",
              "       0.        , 0.07058824, 0.85882353, 0.99215686, 0.99215686,\n",
              "       0.99215686, 0.99215686, 0.99215686, 0.77647059, 0.71372549,\n",
              "       0.96862745, 0.94509804, 0.        , 0.        , 0.        ,\n",
              "       0.        , 0.        , 0.        , 0.        , 0.        ,\n",
              "       0.        , 0.        , 0.        , 0.        , 0.        ,\n",
              "       0.        , 0.        , 0.        , 0.        , 0.        ,\n",
              "       0.31372549, 0.61176471, 0.41960784, 0.99215686, 0.99215686,\n",
              "       0.80392157, 0.04313725, 0.        , 0.16862745, 0.60392157,\n",
              "       0.        , 0.        , 0.        , 0.        , 0.        ,\n",
              "       0.        , 0.        , 0.        , 0.        , 0.        ,\n",
              "       0.        , 0.        , 0.        , 0.        , 0.        ,\n",
              "       0.        , 0.        , 0.        , 0.        , 0.05490196,\n",
              "       0.00392157, 0.60392157, 0.99215686, 0.35294118, 0.        ,\n",
              "       0.        , 0.        , 0.        , 0.        , 0.        ,\n",
              "       0.        , 0.        , 0.        , 0.        , 0.        ,\n",
              "       0.        , 0.        , 0.        , 0.        , 0.        ,\n",
              "       0.        , 0.        , 0.        , 0.        , 0.        ,\n",
              "       0.        , 0.        , 0.        , 0.        , 0.54509804,\n",
              "       0.99215686, 0.74509804, 0.00784314, 0.        , 0.        ,\n",
              "       0.        , 0.        , 0.        , 0.        , 0.        ,\n",
              "       0.        , 0.        , 0.        , 0.        , 0.        ,\n",
              "       0.        , 0.        , 0.        , 0.        , 0.        ,\n",
              "       0.        , 0.        , 0.        , 0.        , 0.        ,\n",
              "       0.        , 0.        , 0.04313725, 0.74509804, 0.99215686,\n",
              "       0.2745098 , 0.        , 0.        , 0.        , 0.        ,\n",
              "       0.        , 0.        , 0.        , 0.        , 0.        ,\n",
              "       0.        , 0.        , 0.        , 0.        , 0.        ,\n",
              "       0.        , 0.        , 0.        , 0.        , 0.        ,\n",
              "       0.        , 0.        , 0.        , 0.        , 0.        ,\n",
              "       0.        , 0.1372549 , 0.94509804, 0.88235294, 0.62745098,\n",
              "       0.42352941, 0.00392157, 0.        , 0.        , 0.        ,\n",
              "       0.        , 0.        , 0.        , 0.        , 0.        ,\n",
              "       0.        , 0.        , 0.        , 0.        , 0.        ,\n",
              "       0.        , 0.        , 0.        , 0.        , 0.        ,\n",
              "       0.        , 0.        , 0.        , 0.        , 0.        ,\n",
              "       0.31764706, 0.94117647, 0.99215686, 0.99215686, 0.46666667,\n",
              "       0.09803922, 0.        , 0.        , 0.        , 0.        ,\n",
              "       0.        , 0.        , 0.        , 0.        , 0.        ,\n",
              "       0.        , 0.        , 0.        , 0.        , 0.        ,\n",
              "       0.        , 0.        , 0.        , 0.        , 0.        ,\n",
              "       0.        , 0.        , 0.        , 0.        , 0.17647059,\n",
              "       0.72941176, 0.99215686, 0.99215686, 0.58823529, 0.10588235,\n",
              "       0.        , 0.        , 0.        , 0.        , 0.        ,\n",
              "       0.        , 0.        , 0.        , 0.        , 0.        ,\n",
              "       0.        , 0.        , 0.        , 0.        , 0.        ,\n",
              "       0.        , 0.        , 0.        , 0.        , 0.        ,\n",
              "       0.        , 0.        , 0.        , 0.0627451 , 0.36470588,\n",
              "       0.98823529, 0.99215686, 0.73333333, 0.        , 0.        ,\n",
              "       0.        , 0.        , 0.        , 0.        , 0.        ,\n",
              "       0.        , 0.        , 0.        , 0.        , 0.        ,\n",
              "       0.        , 0.        , 0.        , 0.        , 0.        ,\n",
              "       0.        , 0.        , 0.        , 0.        , 0.        ,\n",
              "       0.        , 0.        , 0.        , 0.97647059, 0.99215686,\n",
              "       0.97647059, 0.25098039, 0.        , 0.        , 0.        ,\n",
              "       0.        , 0.        , 0.        , 0.        , 0.        ,\n",
              "       0.        , 0.        , 0.        , 0.        , 0.        ,\n",
              "       0.        , 0.        , 0.        , 0.        , 0.        ,\n",
              "       0.        , 0.        , 0.        , 0.18039216, 0.50980392,\n",
              "       0.71764706, 0.99215686, 0.99215686, 0.81176471, 0.00784314,\n",
              "       0.        , 0.        , 0.        , 0.        , 0.        ,\n",
              "       0.        , 0.        , 0.        , 0.        , 0.        ,\n",
              "       0.        , 0.        , 0.        , 0.        , 0.        ,\n",
              "       0.        , 0.        , 0.        , 0.        , 0.15294118,\n",
              "       0.58039216, 0.89803922, 0.99215686, 0.99215686, 0.99215686,\n",
              "       0.98039216, 0.71372549, 0.        , 0.        , 0.        ,\n",
              "       0.        , 0.        , 0.        , 0.        , 0.        ,\n",
              "       0.        , 0.        , 0.        , 0.        , 0.        ,\n",
              "       0.        , 0.        , 0.        , 0.        , 0.        ,\n",
              "       0.09411765, 0.44705882, 0.86666667, 0.99215686, 0.99215686,\n",
              "       0.99215686, 0.99215686, 0.78823529, 0.30588235, 0.        ,\n",
              "       0.        , 0.        , 0.        , 0.        , 0.        ,\n",
              "       0.        , 0.        , 0.        , 0.        , 0.        ,\n",
              "       0.        , 0.        , 0.        , 0.        , 0.        ,\n",
              "       0.        , 0.09019608, 0.25882353, 0.83529412, 0.99215686,\n",
              "       0.99215686, 0.99215686, 0.99215686, 0.77647059, 0.31764706,\n",
              "       0.00784314, 0.        , 0.        , 0.        , 0.        ,\n",
              "       0.        , 0.        , 0.        , 0.        , 0.        ,\n",
              "       0.        , 0.        , 0.        , 0.        , 0.        ,\n",
              "       0.        , 0.        , 0.07058824, 0.67058824, 0.85882353,\n",
              "       0.99215686, 0.99215686, 0.99215686, 0.99215686, 0.76470588,\n",
              "       0.31372549, 0.03529412, 0.        , 0.        , 0.        ,\n",
              "       0.        , 0.        , 0.        , 0.        , 0.        ,\n",
              "       0.        , 0.        , 0.        , 0.        , 0.        ,\n",
              "       0.        , 0.        , 0.        , 0.21568627, 0.6745098 ,\n",
              "       0.88627451, 0.99215686, 0.99215686, 0.99215686, 0.99215686,\n",
              "       0.95686275, 0.52156863, 0.04313725, 0.        , 0.        ,\n",
              "       0.        , 0.        , 0.        , 0.        , 0.        ,\n",
              "       0.        , 0.        , 0.        , 0.        , 0.        ,\n",
              "       0.        , 0.        , 0.        , 0.        , 0.        ,\n",
              "       0.        , 0.53333333, 0.99215686, 0.99215686, 0.99215686,\n",
              "       0.83137255, 0.52941176, 0.51764706, 0.0627451 , 0.        ,\n",
              "       0.        , 0.        , 0.        , 0.        , 0.        ,\n",
              "       0.        , 0.        , 0.        , 0.        , 0.        ,\n",
              "       0.        , 0.        , 0.        , 0.        , 0.        ,\n",
              "       0.        , 0.        , 0.        , 0.        , 0.        ,\n",
              "       0.        , 0.        , 0.        , 0.        , 0.        ,\n",
              "       0.        , 0.        , 0.        , 0.        , 0.        ,\n",
              "       0.        , 0.        , 0.        , 0.        , 0.        ,\n",
              "       0.        , 0.        , 0.        , 0.        , 0.        ,\n",
              "       0.        , 0.        , 0.        , 0.        , 0.        ,\n",
              "       0.        , 0.        , 0.        , 0.        , 0.        ,\n",
              "       0.        , 0.        , 0.        , 0.        , 0.        ,\n",
              "       0.        , 0.        , 0.        , 0.        , 0.        ,\n",
              "       0.        , 0.        , 0.        , 0.        , 0.        ,\n",
              "       0.        , 0.        , 0.        , 0.        , 0.        ,\n",
              "       0.        , 0.        , 0.        , 0.        , 0.        ,\n",
              "       0.        , 0.        , 0.        , 0.        , 0.        ,\n",
              "       0.        , 0.        , 0.        , 0.        , 0.        ,\n",
              "       0.        , 0.        , 0.        , 0.        , 0.        ,\n",
              "       0.        , 0.        , 0.        , 0.        , 0.        ,\n",
              "       0.        , 0.        , 0.        , 0.        ])"
            ]
          },
          "metadata": {},
          "execution_count": 15
        }
      ]
    },
    {
      "cell_type": "code",
      "source": [
        "model = keras.Sequential([\n",
        "    keras.layers.Dense(10, input_shape=(784,), activation='sigmoid')\n",
        "])\n",
        "\n",
        "model.compile(optimizer='adam',\n",
        "              loss='sparse_categorical_crossentropy',\n",
        "              metrics=['accuracy'])\n",
        "\n",
        "model.fit(X_train_flattened, y_train, epochs=5)"
      ],
      "metadata": {
        "colab": {
          "base_uri": "https://localhost:8080/"
        },
        "id": "e7vat_znftPX",
        "outputId": "c1a40be6-c530-4e9e-f933-72df072d7083"
      },
      "execution_count": 16,
      "outputs": [
        {
          "output_type": "stream",
          "name": "stdout",
          "text": [
            "Epoch 1/5\n",
            "1875/1875 [==============================] - 4s 2ms/step - loss: 0.4723 - accuracy: 0.8766\n",
            "Epoch 2/5\n",
            "1875/1875 [==============================] - 3s 2ms/step - loss: 0.3036 - accuracy: 0.9154\n",
            "Epoch 3/5\n",
            "1875/1875 [==============================] - 3s 2ms/step - loss: 0.2833 - accuracy: 0.9210\n",
            "Epoch 4/5\n",
            "1875/1875 [==============================] - 3s 1ms/step - loss: 0.2728 - accuracy: 0.9235\n",
            "Epoch 5/5\n",
            "1875/1875 [==============================] - 3s 2ms/step - loss: 0.2666 - accuracy: 0.9254\n"
          ]
        },
        {
          "output_type": "execute_result",
          "data": {
            "text/plain": [
              "<keras.src.callbacks.History at 0x7be104de1fc0>"
            ]
          },
          "metadata": {},
          "execution_count": 16
        }
      ]
    },
    {
      "cell_type": "markdown",
      "source": [
        "這段程式碼是使用Keras建立、編譯和訓練一個深度神經網絡（DNN）模型來進行手寫數字分類的任務。以下是程式碼的詳細說明：\n",
        "\n",
        "建立模型：\n",
        "\n",
        "使用 keras.Sequential 創建一個順序（Sequential）模型。順序模型是Keras中最簡單的模型類型，它由一個或多個網絡層按照順序堆疊而成。\n",
        "在模型中添加一個 keras.layers.Dense 層。這是一個全連接層（Dense Layer），用於建立模型的第一層。它有10個神經元，輸入維度是784（這對應於攤平的圖像數據 28 * 28），並使用Sigmoid激活函數。\n",
        "編譯模型：\n",
        "\n",
        "使用 model.compile 函數編譯模型。在這一步中，需要指定優化器（optimizer）、損失函數（loss function）和評估指標（metrics）。\n",
        "優化器選擇了 'adam'，這是一種常用的優化算法。\n",
        "損失函數選擇了 'sparse_categorical_crossentropy'，這是一個常用於多類別分類問題的損失函數。\n",
        "評估指標選擇了 'accuracy'，這將用於評估模型的性能。\n",
        "訓練模型：\n",
        "\n",
        "使用 model.fit 函數將模型訓練在訓練數據 X_train_flattened 上。y_train 是訓練數據的標籤（即手寫數字的實際值）。\n",
        "epochs=5 指定了訓練的迭代次數，模型將在訓練數據上運行5個迭代，每個迭代中多次更新權重以優化性能。\n",
        "總之，這段程式碼建立了一個簡單的DNN模型，該模型用於對手寫數字進行分類。模型在訓練數據上進行了5個迭代，以學習如何將輸入的784維數據映射到10個不同的數字類別，同時最小化分類錯誤的損失函數。該模型的性能將使用準確度（accuracy）指標進行評估。\n"
      ],
      "metadata": {
        "id": "14muJLDcjpWb"
      }
    },
    {
      "cell_type": "code",
      "source": [
        "model.evaluate(X_test_flattened, y_test)"
      ],
      "metadata": {
        "colab": {
          "base_uri": "https://localhost:8080/"
        },
        "id": "G9spF71kgTL5",
        "outputId": "b6f7d62b-ccbd-413b-ea89-2547b050f484"
      },
      "execution_count": 17,
      "outputs": [
        {
          "output_type": "stream",
          "name": "stdout",
          "text": [
            "313/313 [==============================] - 1s 1ms/step - loss: 0.2663 - accuracy: 0.9241\n"
          ]
        },
        {
          "output_type": "execute_result",
          "data": {
            "text/plain": [
              "[0.2663429379463196, 0.9240999817848206]"
            ]
          },
          "metadata": {},
          "execution_count": 17
        }
      ]
    },
    {
      "cell_type": "markdown",
      "source": [
        "這段程式碼是用於評估先前訓練的深度神經網絡（DNN）模型在測試數據上的性能。具體來說，它計算了模型在測試數據上的損失（loss）和指定的評估指標（metrics），並返回這些值。\n",
        "\n",
        "以下是程式碼的詳細說明：\n",
        "\n",
        "- `model.evaluate(X_test_flattened, y_test)`：這是一個模型評估的函數調用，其中 `X_test_flattened` 是測試數據的特徵數據（攤平後的圖像數據），`y_test` 是測試數據的實際標籤（即手寫數字的真實值）。\n",
        "\n",
        "- 函數的執行會計算模型在測試數據上的性能指標，包括損失和任何在模型編譯時指定的評估指標。通常，評估指標是在 `model.compile` 階段指定的，這個程式碼片段中我們知道已經指定了 `metrics=['accuracy']`。\n",
        "\n",
        "- 函數將返回一個包含評估結果的列表，其中包括損失值和任何其他指定的評估指標的值。對於上述程式碼中指定的 `metrics=['accuracy']`，評估結果列表的第一個元素將是損失值，第二個元素將是準確度（accuracy）。\n",
        "\n",
        "總之，這段程式碼用於評估DNN模型在測試數據上的性能，並返回模型在測試數據上的損失值和準確度（或任何其他指定的評估指標）。這有助於了解模型在未見過的數據上的表現如何。"
      ],
      "metadata": {
        "id": "wojosobYAvQg"
      }
    },
    {
      "cell_type": "code",
      "source": [
        "y_predicted = model.predict(X_test_flattened)\n",
        "y_predicted[5]"
      ],
      "metadata": {
        "colab": {
          "base_uri": "https://localhost:8080/"
        },
        "id": "5VE1ePxm-ecD",
        "outputId": "0b01d8c1-f34b-45ca-ed15-476d7d907471"
      },
      "execution_count": 18,
      "outputs": [
        {
          "output_type": "stream",
          "name": "stdout",
          "text": [
            "313/313 [==============================] - 1s 2ms/step\n"
          ]
        },
        {
          "output_type": "execute_result",
          "data": {
            "text/plain": [
              "array([5.4318156e-05, 9.9712378e-01, 4.2574355e-01, 4.6212974e-01,\n",
              "       9.2750881e-03, 2.0760406e-02, 9.3608461e-03, 6.6340250e-01,\n",
              "       5.5695164e-01, 1.6524027e-01], dtype=float32)"
            ]
          },
          "metadata": {},
          "execution_count": 18
        }
      ]
    },
    {
      "cell_type": "markdown",
      "source": [
        "這段程式碼是用於使用之前訓練的深度神經網絡（DNN）模型對測試數據集 `X_test_flattened` 進行預測。具體來說，它計算模型對測試集中的第6個樣本（索引為5）的預測結果。\n",
        "\n",
        "以下是程式碼的詳細說明：\n",
        "\n",
        "1. `y_predicted = model.predict(X_test_flattened)`：這行程式碼用於對測試數據 `X_test_flattened` 進行預測。`model.predict` 函數接受特徵數據 `X_test_flattened` 作為輸入，並返回模型對每個樣本的預測結果。`y_predicted` 是一個包含所有測試樣本預測結果的數組。\n",
        "\n",
        "2. `y_predicted[5]`：這行程式碼用於檢索 `y_predicted` 中的第6個元素（索引為5），即模型對測試數據集中第6個樣本的預測結果。這個結果可能是一個包含多個數字的數組，每個數字表示模型對不同數字類別的預測概率。\n",
        "\n",
        "總之，這段程式碼是用於獲取模型對測試數據集中特定樣本的預測結果。通常，這樣的預測結果可以用於評估模型的性能，比如計算準確度或生成分類報告，以了解模型在不同數字類別上的表現。"
      ],
      "metadata": {
        "id": "Q7rlmogkBj5f"
      }
    },
    {
      "cell_type": "code",
      "source": [
        "plt.matshow(X_test[5])"
      ],
      "metadata": {
        "colab": {
          "base_uri": "https://localhost:8080/",
          "height": 455
        },
        "id": "x-NxpjbZ-3uy",
        "outputId": "651d7eeb-7ea3-49ab-fd97-74520d70648e"
      },
      "execution_count": 22,
      "outputs": [
        {
          "output_type": "execute_result",
          "data": {
            "text/plain": [
              "<matplotlib.image.AxesImage at 0x7be0dbfcb8e0>"
            ]
          },
          "metadata": {},
          "execution_count": 22
        },
        {
          "output_type": "display_data",
          "data": {
            "text/plain": [
              "<Figure size 480x480 with 1 Axes>"
            ],
            "image/png": "[encoded data removed]"
          },
          "metadata": {}
        }
      ]
    },
    {
      "cell_type": "code",
      "source": [
        "np.argmax(y_predicted[5])"
      ],
      "metadata": {
        "colab": {
          "base_uri": "https://localhost:8080/"
        },
        "id": "rAKHjWmF-5rJ",
        "outputId": "c462ae11-f95b-4b79-b455-ca49790e28d0"
      },
      "execution_count": 21,
      "outputs": [
        {
          "output_type": "execute_result",
          "data": {
            "text/plain": [
              "1"
            ]
          },
          "metadata": {},
          "execution_count": 21
        }
      ]
    },
    {
      "cell_type": "markdown",
      "source": [
        "這段程式碼是使用NumPy庫的`argmax`函數來找到一個數組中的最大值的索引。具體來說，它的目的是找到模型對測試數據集中第6個樣本（索引為5）的預測中具有最高概率的數字類別的索引。\n",
        "\n",
        "以下是程式碼的詳細說明：\n",
        "\n",
        "1. `np` 是NumPy庫的一個慣例縮寫，通常在Python中用於進行數值計算。\n",
        "\n",
        "2. `y_predicted[5]`：這部分獲取模型對測試數據集中第6個樣本的預測結果。這個結果通常是一個包含多個數字（類別）的數組，每個數字表示模型對不同類別的預測概率。\n",
        "\n",
        "3. `np.argmax(y_predicted[5])`：這部分使用`argmax`函數找到`y_predicted[5]` 中具有最大值的數字的索引。換句話說，它找到了模型認為最有可能的數字類別的索引。\n",
        "\n",
        "總之，這段程式碼的目的是從模型的預測中找到最有可能的數字類別，並返回該類別的索引。這在分類任務中很有用，因為它允許您確定模型對給定輸入的預測結果。"
      ],
      "metadata": {
        "id": "umCO-BbaCCwY"
      }
    },
    {
      "cell_type": "code",
      "source": [
        "y_predicted_labels = [np.argmax(i) for i in y_predicted]"
      ],
      "metadata": {
        "id": "9VRJXQR5CF2M"
      },
      "execution_count": 24,
      "outputs": []
    },
    {
      "cell_type": "markdown",
      "source": [
        "這段程式碼是使用列表推導式（List Comprehension）來將模型對測試數據集的預測轉換為數字標籤的列表。具體來說，它將每個預測結果中具有最高概率的類別索引提取出來，以得到一個包含數字標籤的列表。\n",
        "\n",
        "以下是程式碼的詳細說明：\n",
        "\n",
        "1. `y_predicted` 是模型對測試數據集的預測結果，通常是一個包含多個數字（類別）的數組，每個數字表示模型對不同類別的預測概率。\n",
        "\n",
        "2. `[np.argmax(i) for i in y_predicted]` 是列表推導式的語法。它遍歷`y_predicted` 中的每個預測結果 `i`，並對每個預測結果使用`np.argmax(i)`，這將找到`i` 中具有最大值的索引，即最有可能的類別索引。\n",
        "\n",
        "3. 最終，它將這些最有可能的類別索引組成一個新的列表 `y_predicted_labels`，這個列表包含了模型對測試數據集的每個樣本的預測數字標籤。\n",
        "\n",
        "總之，這段程式碼的目的是從模型的預測中提取最有可能的類別，以得到一個包含數字標籤的列表，這對於評估模型的性能以及進行分類任務非常有用。"
      ],
      "metadata": {
        "id": "fF2OKvjmCTwH"
      }
    },
    {
      "cell_type": "code",
      "source": [
        "y_predicted_labels[:5]"
      ],
      "metadata": {
        "colab": {
          "base_uri": "https://localhost:8080/"
        },
        "id": "4Vqf6nCxBqEy",
        "outputId": "8ab0197e-b002-4d8b-b602-1b19e0745655"
      },
      "execution_count": 26,
      "outputs": [
        {
          "output_type": "execute_result",
          "data": {
            "text/plain": [
              "[7, 2, 1, 0, 4]"
            ]
          },
          "metadata": {},
          "execution_count": 26
        }
      ]
    },
    {
      "cell_type": "markdown",
      "source": [
        "這段程式碼是用來顯示模型對測試數據集中前5個樣本的預測數字標籤。具體來說，它提取了 `y_predicted_labels` 列表中的前5個元素，這個列表包含了模型對測試數據集的預測數字標籤。\n",
        "\n",
        "以下是程式碼的詳細說明：\n",
        "\n",
        "- `y_predicted_labels` 是一個列表，其中包含了模型對測試數據集的每個樣本的預測數字標籤。這個列表是在之前的程式碼中生成的，使用了列表推導式將模型的預測結果轉換為數字標籤。\n",
        "\n",
        "- `y_predicted_labels[:5]`：這部分使用切片操作，選取 `y_predicted_labels` 列表中的前5個元素。換句話說，它返回一個包含模型對前5個測試樣本的預測數字標籤的子列表。\n",
        "\n",
        "總之，這段程式碼的目的是顯示模型對測試數據集中前5個樣本的預測數字標籤，以便您可以查看模型的預測結果。\n",
        "\n",
        "\n"
      ],
      "metadata": {
        "id": "1F8hrjDLCgfw"
      }
    },
    {
      "cell_type": "code",
      "source": [
        "cm = tf.math.confusion_matrix(labels=y_test,predictions=y_predicted_labels)\n",
        "cm"
      ],
      "metadata": {
        "colab": {
          "base_uri": "https://localhost:8080/"
        },
        "id": "OxpUM2WPCk99",
        "outputId": "f9922f63-c807-4b00-df43-af442572e953"
      },
      "execution_count": 27,
      "outputs": [
        {
          "output_type": "execute_result",
          "data": {
            "text/plain": [
              "<tf.Tensor: shape=(10, 10), dtype=int32, numpy=\n",
              "array([[ 960,    0,    2,    2,    0,    5,    6,    3,    2,    0],\n",
              "       [   0, 1110,    3,    2,    0,    1,    4,    2,   13,    0],\n",
              "       [   6,    9,  911,   20,    8,    3,   13,   11,   46,    5],\n",
              "       [   1,    0,   14,  935,    0,   16,    2,   11,   22,    9],\n",
              "       [   1,    1,    2,    2,  912,    0,   12,    5,    9,   38],\n",
              "       [   8,    2,    2,   42,   11,  755,   16,   10,   38,    8],\n",
              "       [  10,    3,    5,    1,    7,   12,  914,    2,    4,    0],\n",
              "       [   1,    5,   20,    7,    5,    0,    0,  957,    3,   30],\n",
              "       [   5,    6,    5,   26,    9,   21,    9,   14,  869,   10],\n",
              "       [  10,    7,    1,   11,   25,    4,    0,   27,    6,  918]],\n",
              "      dtype=int32)>"
            ]
          },
          "metadata": {},
          "execution_count": 27
        }
      ]
    },
    {
      "cell_type": "markdown",
      "source": [
        "這段程式碼是使用TensorFlow中的`tf.math.confusion_matrix`函數來計算混淆矩陣（Confusion Matrix）。混淆矩陣是在分類問題中用來評估模型性能的一種重要工具。具體來說，它用於計算模型的預測與實際觀測值之間的交叉表格，以便評估模型在不同類別上的性能。\n",
        "\n",
        "以下是程式碼的詳細說明：\n",
        "\n",
        "1. `tf.math.confusion_matrix(labels=y_test, predictions=y_predicted_labels)`：這行程式碼調用了`tf.math.confusion_matrix`函數，用於計算混淆矩陣。函數的兩個參數分別是：\n",
        "   - `labels`：這是實際的標籤或觀測值。在這個情境中，它是測試數據集 `y_test` 中的真實標籤，表示手寫數字的真實值。\n",
        "   - `predictions`：這是模型的預測。在這個情境中，它是模型對測試數據的預測 `y_predicted_labels`，表示模型預測的數字標籤。\n",
        "\n",
        "2. `cm`：這行程式碼將混淆矩陣的計算結果存儲在變數 `cm` 中。混淆矩陣是一個二維的數組，其中行代表實際類別，列代表預測類別。每個元素表示模型對特定類別的預測情況，例如，混淆矩陣的 (i, j) 元素表示模型將實際類別 i 預測為類別 j 的次數。\n",
        "\n",
        "總之，這段程式碼的目的是計算混淆矩陣，以評估模型在不同類別上的性能。混淆矩陣提供了關於模型的分類準確度、誤分類和其他性能指標的重要信息。您可以使用混淆矩陣來進一步分析模型的性能，例如計算準確度、精確度、召回率等指標。"
      ],
      "metadata": {
        "id": "Nck90NKYC1ug"
      }
    },
    {
      "cell_type": "code",
      "source": [
        "import seaborn as sn\n",
        "plt.figure(figsize = (10,7))\n",
        "sn.heatmap(cm, annot=True, fmt='d')\n",
        "plt.xlabel('Predicted')\n",
        "plt.ylabel('Truth')"
      ],
      "metadata": {
        "colab": {
          "base_uri": "https://localhost:8080/",
          "height": 637
        },
        "id": "SXN4wRN1Co26",
        "outputId": "ed214727-400c-4dc1-93a5-8551d045cf1e"
      },
      "execution_count": 28,
      "outputs": [
        {
          "output_type": "execute_result",
          "data": {
            "text/plain": [
              "Text(95.72222222222221, 0.5, 'Truth')"
            ]
          },
          "metadata": {},
          "execution_count": 28
        },
        {
          "output_type": "display_data",
          "data": {
            "text/plain": [
              "<Figure size 1000x700 with 2 Axes>"
            ],
            "image/png": "[encoded data removed]"
          },
          "metadata": {}
        }
      ]
    },
    {
      "cell_type": "markdown",
      "source": [
        "這段程式碼使用了Python中的Matplotlib和Seaborn庫來可視化混淆矩陣（Confusion Matrix）。混淆矩陣是用於評估分類模型性能的一個重要工具。以下是程式碼的詳細說明：\n",
        "\n",
        "1. `import seaborn as sn`：這行程式碼導入了Seaborn庫，Seaborn是一個Python數據可視化庫，通常用於繪製更美觀和信息豐富的圖表。\n",
        "\n",
        "2. `plt.figure(figsize=(10, 7))`：這行程式碼創建了一個新的圖形，並指定了其大小為寬度10單位和高度7單位，以便更好地顯示混淆矩陣。\n",
        "\n",
        "3. `sn.heatmap(cm, annot=True, fmt='d')`：這部分用於繪製熱圖（Heatmap），其中包括混淆矩陣 `cm` 的可視化表示。\n",
        "   - `cm` 是之前計算的混淆矩陣。\n",
        "   - `annot=True` 意味著在熱圖上顯示數字，每個單元格將包含混淆矩陣中的數字值。\n",
        "   - `fmt='d'` 指定了數字格式，即顯示整數值。\n",
        "\n",
        "4. `plt.xlabel('Predicted')` 和 `plt.ylabel('Truth')`：這兩行程式碼分別用於設置x軸和y軸的標籤。在這個情境中，x軸的標籤是“Predicted”（預測值），y軸的標籤是“Truth”（實際值），這有助於解釋混淆矩陣的內容。\n",
        "\n",
        "總之，這段程式碼的目的是使用Seaborn庫繪製混淆矩陣的熱圖，以便更容易理解模型在不同類別上的性能。熱圖提供了一個視覺化的方式來顯示模型的預測結果，並突顯了模型的正確預測和錯誤預測。"
      ],
      "metadata": {
        "id": "k9l3k2UIDTtp"
      }
    },
    {
      "cell_type": "code",
      "source": [
        "model = keras.Sequential([\n",
        "    keras.layers.Flatten(input_shape=(28, 28)),\n",
        "    keras.layers.Dense(100, activation='relu'),\n",
        "    keras.layers.Dense(10, activation='sigmoid')\n",
        "])\n",
        "\n",
        "model.compile(optimizer='adam',\n",
        "              loss='sparse_categorical_crossentropy',\n",
        "              metrics=['accuracy'])\n",
        "\n",
        "model.fit(X_train, y_train, epochs=10)"
      ],
      "metadata": {
        "colab": {
          "base_uri": "https://localhost:8080/"
        },
        "id": "hFPEqxjpC9Iw",
        "outputId": "5b781654-5bd7-47f1-bef4-9c153f2807b9"
      },
      "execution_count": 29,
      "outputs": [
        {
          "output_type": "stream",
          "name": "stdout",
          "text": [
            "Epoch 1/10\n",
            "1875/1875 [==============================] - 8s 4ms/step - loss: 0.2713 - accuracy: 0.9216\n",
            "Epoch 2/10\n",
            "1875/1875 [==============================] - 7s 4ms/step - loss: 0.1231 - accuracy: 0.9640\n",
            "Epoch 3/10\n",
            "1875/1875 [==============================] - 6s 3ms/step - loss: 0.0869 - accuracy: 0.9736\n",
            "Epoch 4/10\n",
            "1875/1875 [==============================] - 5s 2ms/step - loss: 0.0647 - accuracy: 0.9803\n",
            "Epoch 5/10\n",
            "1875/1875 [==============================] - 5s 3ms/step - loss: 0.0515 - accuracy: 0.9838\n",
            "Epoch 6/10\n",
            "1875/1875 [==============================] - 5s 3ms/step - loss: 0.0409 - accuracy: 0.9878\n",
            "Epoch 7/10\n",
            "1875/1875 [==============================] - 8s 5ms/step - loss: 0.0333 - accuracy: 0.9895\n",
            "Epoch 8/10\n",
            "1875/1875 [==============================] - 10s 5ms/step - loss: 0.0278 - accuracy: 0.9913\n",
            "Epoch 9/10\n",
            "1875/1875 [==============================] - 11s 6ms/step - loss: 0.0232 - accuracy: 0.9927\n",
            "Epoch 10/10\n",
            "1875/1875 [==============================] - 7s 4ms/step - loss: 0.0202 - accuracy: 0.9936\n"
          ]
        },
        {
          "output_type": "execute_result",
          "data": {
            "text/plain": [
              "<keras.src.callbacks.History at 0x7be0d6c38340>"
            ]
          },
          "metadata": {},
          "execution_count": 29
        }
      ]
    },
    {
      "cell_type": "markdown",
      "source": [
        "這段程式碼是使用Keras建立、編譯和訓練一個深度神經網絡（DNN）模型，該模型用於進行手寫數字的分類任務。以下是程式碼的詳細說明：\n",
        "\n",
        "1. **建立模型**：\n",
        "   - 使用 `keras.Sequential` 創建一個順序（Sequential）模型。順序模型是Keras中最簡單的模型類型，它由一個或多個網絡層按照順序堆疊而成。\n",
        "   - 第一層是 `keras.layers.Flatten` 層，用於將輸入的二維圖像（28x28像素）攤平成一維數組，以便模型可以處理它們。`input_shape=(28, 28)` 指定了輸入的形狀。\n",
        "   - 第二層是 `keras.layers.Dense` 層，包含100個神經元，並使用ReLU（Rectified Linear Unit）激活函數。\n",
        "   - 第三層是 `keras.layers.Dense` 層，包含10個神經元，並使用Sigmoid激活函數。這是輸出層，用於預測手寫數字的10個不同類別。\n",
        "\n",
        "2. **編譯模型**：\n",
        "   - 使用 `model.compile` 函數編譯模型。在這一步中，需要指定優化器（optimizer）、損失函數（loss function）和評估指標（metrics）。\n",
        "   - 優化器選擇了 `'adam'`，這是一種常用的優化算法。\n",
        "   - 損失函數選擇了 `'sparse_categorical_crossentropy'`，這是一個常用於多類別分類問題的損失函數。\n",
        "   - 評估指標選擇了 `'accuracy'`，這將用於評估模型的性能。\n",
        "\n",
        "3. **訓練模型**：\n",
        "   - 使用 `model.fit` 函數將模型訓練在訓練數據 `X_train` 上。`y_train` 是訓練數據的標籤（即手寫數字的真實值）。\n",
        "   - `epochs=10` 指定了訓練的迭代次數，模型將在訓練數據上運行10個迭代，每個迭代中多次更新權重以優化性能。\n",
        "\n",
        "總之，這段程式碼建立了一個簡單的DNN模型，該模型用於對手寫數字進行分類。模型的訓練過程將優化權重以最小化多類別交叉熵損失，同時使用準確度（accuracy）評估性能。"
      ],
      "metadata": {
        "id": "F3mVtijiDnMr"
      }
    },
    {
      "cell_type": "code",
      "source": [
        "model.evaluate(X_test,y_test)"
      ],
      "metadata": {
        "colab": {
          "base_uri": "https://localhost:8080/"
        },
        "id": "ZmJAdToFDfUV",
        "outputId": "a80dca87-0919-41f1-e788-a6ad8efa8e50"
      },
      "execution_count": 31,
      "outputs": [
        {
          "output_type": "stream",
          "name": "stdout",
          "text": [
            "313/313 [==============================] - 2s 4ms/step - loss: 0.0815 - accuracy: 0.9753\n"
          ]
        },
        {
          "output_type": "execute_result",
          "data": {
            "text/plain": [
              "[0.08153562992811203, 0.9753000140190125]"
            ]
          },
          "metadata": {},
          "execution_count": 31
        }
      ]
    },
    {
      "cell_type": "markdown",
      "source": [
        "Accuracy: 97.5%"
      ],
      "metadata": {
        "id": "6Ooh_rxvDv-x"
      }
    },
    {
      "cell_type": "code",
      "source": [],
      "metadata": {
        "id": "dg6AfOL1Dsaz"
      },
      "execution_count": null,
      "outputs": []
    }
  ]
}